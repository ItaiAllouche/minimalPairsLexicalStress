{
  "cells": [
    {
      "cell_type": "code",
      "execution_count": 113,
      "metadata": {
        "id": "7OWTn_KvNk59"
      },
      "outputs": [],
      "source": [
        "import soundfile as sf\n",
        "\n",
        "def clip_audio(input_file, output_file, new_start, new_end):\n",
        "    # Read the input FLAC audio file\n",
        "    audio, sample_rate = sf.read(input_file)\n",
        "    strach = 0.28 # in [sec]\n",
        "\n",
        "    # Convert start and end times from seconds to samples\n",
        "    # strach the end if possible\n",
        "    new_end = new_end + strach if ((new_end+strach)*sample_rate <= len(audio))\\\n",
        "                               else -1\n",
        "    start_sample = int(new_start * sample_rate)\n",
        "    end_sample = int(new_end * sample_rate)\n",
        "\n",
        "    # Clip the audio between start and end samples\n",
        "    if new_end == -1:\n",
        "      clipped_audio = audio[start_sample:]\n",
        "    else:\n",
        "      clipped_audio = audio[start_sample:end_sample]\n",
        "\n",
        "    # Save the clipped audio to a new FLAC file\n",
        "    sf.write(output_file, clipped_audio, sample_rate)\n",
        "\n",
        "def remove_non_alphabetic(input_string):\n",
        "    # Initialize an empty string to store the result\n",
        "    result = \"\"\n",
        "\n",
        "    # Iterate over each character in the input string\n",
        "    for char in input_string:\n",
        "        # Check if the character is an alphabet letter\n",
        "        if char.isalpha():\n",
        "            # If it is, append it to the result string\n",
        "            result += char\n",
        "    return result\n"
      ]
    },
    {
      "cell_type": "code",
      "execution_count": 1,
      "metadata": {
        "colab": {
          "base_uri": "https://localhost:8080/"
        },
        "id": "JkuvjS-8TM4q",
        "outputId": "8d011f65-8113-478f-d810-9fc61b2465e3"
      },
      "outputs": [
        {
          "ename": "ModuleNotFoundError",
          "evalue": "No module named 'whisper'",
          "output_type": "error",
          "traceback": [
            "\u001b[0;31m---------------------------------------------------------------------------\u001b[0m",
            "\u001b[0;31mModuleNotFoundError\u001b[0m                       Traceback (most recent call last)",
            "Cell \u001b[0;32mIn[1], line 1\u001b[0m\n\u001b[0;32m----> 1\u001b[0m \u001b[38;5;28;01mimport\u001b[39;00m \u001b[38;5;21;01mwhisper\u001b[39;00m\n\u001b[1;32m      2\u001b[0m \u001b[38;5;28;01mimport\u001b[39;00m \u001b[38;5;21;01mos\u001b[39;00m\n\u001b[1;32m      3\u001b[0m \u001b[38;5;28;01mfrom\u001b[39;00m \u001b[38;5;21;01mremove_redundant_records\u001b[39;00m \u001b[38;5;28;01mimport\u001b[39;00m words_to_check \n",
            "\u001b[0;31mModuleNotFoundError\u001b[0m: No module named 'whisper'"
          ]
        }
      ],
      "source": [
        "import whisper\n",
        "import os\n",
        "from remove_redundant_records import words_to_check \n",
        "\n",
        "model = whisper.load_model(\"base\")\n",
        "for file_name in os.listdir(\"/content/dev_set_clean\"):\n",
        "  if file_name.endswith(\".flac\"):\n",
        "    transcript = model.transcribe(word_timestamps=True, audio=f\"/content/dev_set_clean/{file_name}\")\n",
        "    for segment in transcript[\"segments\"]:\n",
        "        for word in segment[\"words\"]:\n",
        "            clean_word = remove_non_alphabetic(word[\"word\"])\n",
        "            new_start = float(word['start'])\n",
        "            new_end = float(word['end'])\n",
        "            if clean_word in words_to_check:\n",
        "              print(f\"|word:{clean_word}|start:{new_start}|end:{new_end}|\")\n",
        "              clip_audio(input_file=f\"/content/dev_set_clean/{file_name}\",\n",
        "                        output_file=f\"/content/dev_set_clean/clipped-{file_name}\",\n",
        "                        new_start=new_start, new_end=new_end)\n",
        "              break\n",
        "\n"
      ]
    }
  ],
  "metadata": {
    "accelerator": "GPU",
    "colab": {
      "provenance": []
    },
    "gpuClass": "standard",
    "kernelspec": {
      "display_name": "Python 3 (ipykernel)",
      "language": "python",
      "name": "python3"
    },
    "language_info": {
      "codemirror_mode": {
        "name": "ipython",
        "version": 3
      },
      "file_extension": ".py",
      "mimetype": "text/x-python",
      "name": "python",
      "nbconvert_exporter": "python",
      "pygments_lexer": "ipython3",
      "version": "3.10.undefined"
    }
  },
  "nbformat": 4,
  "nbformat_minor": 0
}
